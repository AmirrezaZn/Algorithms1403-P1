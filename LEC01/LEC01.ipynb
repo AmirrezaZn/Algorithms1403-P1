{
 "cells": [
  {
   "cell_type": "markdown",
   "metadata": {
    "editable": true,
    "slideshow": {
     "slide_type": ""
    },
    "tags": []
   },
   "source": [
    "# Lecture 1: Multiplication\n",
    "\n",
    "In this IPython notebook, we implement the algorithms that we discussed in class for multiplying integers.\n",
    "\n",
    "## The goal:\n",
    "\n",
    "Multiply two n-digit integers. \n",
    "\n",
    "## The rules: \n",
    "\n",
    "We are allowed to use Python's built-in multiplication to do one-digit multiplications (eg, 6 times 7), but not any other multiplication (eg, 66 times 77).  We are allowed to use Python's built-in addition (even of large numbers).\n",
    "\n",
    "## install\n",
    "\n"
   ]
  },
  {
   "cell_type": "code",
   "execution_count": 104,
   "metadata": {
    "jupyter": {
     "is_executing": true
    }
   },
   "outputs": [
    {
     "name": "stdout",
     "output_type": "stream",
     "text": [
      "Requirement already satisfied: matplotlib in c:\\users\\zangane\\anaconda3\\lib\\site-packages (3.9.2)\n",
      "Requirement already satisfied: contourpy>=1.0.1 in c:\\users\\zangane\\anaconda3\\lib\\site-packages (from matplotlib) (1.2.0)\n",
      "Requirement already satisfied: cycler>=0.10 in c:\\users\\zangane\\anaconda3\\lib\\site-packages (from matplotlib) (0.11.0)\n",
      "Requirement already satisfied: fonttools>=4.22.0 in c:\\users\\zangane\\anaconda3\\lib\\site-packages (from matplotlib) (4.51.0)\n",
      "Requirement already satisfied: kiwisolver>=1.3.1 in c:\\users\\zangane\\anaconda3\\lib\\site-packages (from matplotlib) (1.4.4)\n",
      "Requirement already satisfied: numpy>=1.23 in c:\\users\\zangane\\anaconda3\\lib\\site-packages (from matplotlib) (1.26.4)\n",
      "Requirement already satisfied: packaging>=20.0 in c:\\users\\zangane\\anaconda3\\lib\\site-packages (from matplotlib) (24.1)\n",
      "Requirement already satisfied: pillow>=8 in c:\\users\\zangane\\anaconda3\\lib\\site-packages (from matplotlib) (10.4.0)\n",
      "Requirement already satisfied: pyparsing>=2.3.1 in c:\\users\\zangane\\anaconda3\\lib\\site-packages (from matplotlib) (3.1.2)\n",
      "Requirement already satisfied: python-dateutil>=2.7 in c:\\users\\zangane\\anaconda3\\lib\\site-packages (from matplotlib) (2.9.0.post0)\n",
      "Requirement already satisfied: six>=1.5 in c:\\users\\zangane\\anaconda3\\lib\\site-packages (from python-dateutil>=2.7->matplotlib) (1.16.0)\n",
      "Note: you may need to restart the kernel to use updated packages.\n"
     ]
    }
   ],
   "source": [
    "pip install matplotlib"
   ]
  },
  {
   "cell_type": "code",
   "execution_count": 105,
   "metadata": {},
   "outputs": [
    {
     "name": "stdout",
     "output_type": "stream",
     "text": [
      "Requirement already satisfied: numpy in c:\\users\\zangane\\anaconda3\\lib\\site-packages (1.26.4)\n",
      "Note: you may need to restart the kernel to use updated packages.\n"
     ]
    }
   ],
   "source": [
    "pip install numpy"
   ]
  },
  {
   "cell_type": "code",
   "execution_count": 106,
   "metadata": {},
   "outputs": [
    {
     "name": "stdout",
     "output_type": "stream",
     "text": [
      "Requirement already satisfied: pytest in c:\\users\\zangane\\anaconda3\\lib\\site-packages (7.4.4)\n",
      "Requirement already satisfied: iniconfig in c:\\users\\zangane\\anaconda3\\lib\\site-packages (from pytest) (1.1.1)\n",
      "Requirement already satisfied: packaging in c:\\users\\zangane\\anaconda3\\lib\\site-packages (from pytest) (24.1)\n",
      "Requirement already satisfied: pluggy<2.0,>=0.12 in c:\\users\\zangane\\anaconda3\\lib\\site-packages (from pytest) (1.0.0)\n",
      "Requirement already satisfied: colorama in c:\\users\\zangane\\anaconda3\\lib\\site-packages (from pytest) (0.4.6)\n",
      "Note: you may need to restart the kernel to use updated packages.\n"
     ]
    }
   ],
   "source": [
    "pip install pytest"
   ]
  },
  {
   "cell_type": "code",
   "execution_count": 107,
   "metadata": {},
   "outputs": [
    {
     "name": "stdout",
     "output_type": "stream",
     "text": [
      "Requirement already satisfied: ipytest in c:\\users\\zangane\\anaconda3\\lib\\site-packages (0.14.2)\n",
      "Requirement already satisfied: ipython in c:\\users\\zangane\\anaconda3\\lib\\site-packages (from ipytest) (8.27.0)\n",
      "Requirement already satisfied: packaging in c:\\users\\zangane\\anaconda3\\lib\\site-packages (from ipytest) (24.1)\n",
      "Requirement already satisfied: pytest>=5.4 in c:\\users\\zangane\\anaconda3\\lib\\site-packages (from ipytest) (7.4.4)\n",
      "Requirement already satisfied: iniconfig in c:\\users\\zangane\\anaconda3\\lib\\site-packages (from pytest>=5.4->ipytest) (1.1.1)\n",
      "Requirement already satisfied: pluggy<2.0,>=0.12 in c:\\users\\zangane\\anaconda3\\lib\\site-packages (from pytest>=5.4->ipytest) (1.0.0)\n",
      "Requirement already satisfied: colorama in c:\\users\\zangane\\anaconda3\\lib\\site-packages (from pytest>=5.4->ipytest) (0.4.6)\n",
      "Requirement already satisfied: decorator in c:\\users\\zangane\\anaconda3\\lib\\site-packages (from ipython->ipytest) (5.1.1)\n",
      "Requirement already satisfied: jedi>=0.16 in c:\\users\\zangane\\anaconda3\\lib\\site-packages (from ipython->ipytest) (0.19.1)\n",
      "Requirement already satisfied: matplotlib-inline in c:\\users\\zangane\\anaconda3\\lib\\site-packages (from ipython->ipytest) (0.1.6)\n",
      "Requirement already satisfied: prompt-toolkit<3.1.0,>=3.0.41 in c:\\users\\zangane\\anaconda3\\lib\\site-packages (from ipython->ipytest) (3.0.43)\n",
      "Requirement already satisfied: pygments>=2.4.0 in c:\\users\\zangane\\anaconda3\\lib\\site-packages (from ipython->ipytest) (2.15.1)\n",
      "Requirement already satisfied: stack-data in c:\\users\\zangane\\anaconda3\\lib\\site-packages (from ipython->ipytest) (0.2.0)\n",
      "Requirement already satisfied: traitlets>=5.13.0 in c:\\users\\zangane\\anaconda3\\lib\\site-packages (from ipython->ipytest) (5.14.3)\n",
      "Requirement already satisfied: parso<0.9.0,>=0.8.3 in c:\\users\\zangane\\anaconda3\\lib\\site-packages (from jedi>=0.16->ipython->ipytest) (0.8.3)\n",
      "Requirement already satisfied: wcwidth in c:\\users\\zangane\\anaconda3\\lib\\site-packages (from prompt-toolkit<3.1.0,>=3.0.41->ipython->ipytest) (0.2.5)\n",
      "Requirement already satisfied: executing in c:\\users\\zangane\\anaconda3\\lib\\site-packages (from stack-data->ipython->ipytest) (0.8.3)\n",
      "Requirement already satisfied: asttokens in c:\\users\\zangane\\anaconda3\\lib\\site-packages (from stack-data->ipython->ipytest) (2.0.5)\n",
      "Requirement already satisfied: pure-eval in c:\\users\\zangane\\anaconda3\\lib\\site-packages (from stack-data->ipython->ipytest) (0.2.2)\n",
      "Requirement already satisfied: six in c:\\users\\zangane\\anaconda3\\lib\\site-packages (from asttokens->stack-data->ipython->ipytest) (1.16.0)\n",
      "Note: you may need to restart the kernel to use updated packages.\n"
     ]
    }
   ],
   "source": [
    "pip install ipytest"
   ]
  },
  {
   "cell_type": "code",
   "execution_count": 108,
   "metadata": {},
   "outputs": [],
   "source": [
    "# first include a few helper functions that will be useful (like turning integers to digits and back)\n",
    "from multHelpers import *\n",
    "# set up matplotlib, for plotting stuff.\n",
    "%matplotlib inline\n",
    "import matplotlib\n",
    "import numpy as np\n",
    "import matplotlib.pyplot as plt\n",
    "import ipytest\n",
    "ipytest.autoconfig()"
   ]
  },
  {
   "cell_type": "code",
   "execution_count": 109,
   "metadata": {},
   "outputs": [],
   "source": [
    "# These are a few helper functions for the Lecture 1 IPython notebook.\n",
    "\n",
    "import time\n",
    "from random import choice\n",
    "\n",
    "# a few helpful functions\n",
    "def getDigits(x): # takes an integer x and returns a list of digits, most significant first\n",
    "    return [ int(a) for a in str(x) ]\n",
    "\n",
    "def makeInt(digits): # takes a list of digits (as returned by getDigits) and returns the integer they represent\n",
    "    return sum( [ 10**(len(digits)-i-1)*digits[i] for i in range(len(digits))])\n",
    "\n",
    "\n",
    "# multABunch: runs a multiplication function a bunch, and times how long it takes.\n",
    "#\n",
    "# Input: myFn: a function which takes as input two n-digit integers\n",
    "#              (Notice that in python you can pass a function as input!)\n",
    "#        nVals: list of n values to test at\n",
    "# Output: lists nValues and tValues so that running myFn on a list of length nValues[i] took (on average over numTrials tests) time tValues[i] milliseconds.\n",
    "#\n",
    "# Other optional args:\n",
    "#    - numTrials: for each n tests, do numTrials tests and average them\n",
    "#    - listMax: the input lists of length n will have values drawn uniformly at random from range(listMax)\n",
    "def multABunch(myFn, nVals, numTrials=20):\n",
    "    nValues = []\n",
    "    tValues = []\n",
    "    for n in nVals:\n",
    "        # run myFn several times and average to get a decent idea.\n",
    "        runtime = 0\n",
    "        for t in range(numTrials):\n",
    "            lst1 = [ choice(range(10)) for i in range(n) ] # generate a random list of length n\n",
    "            lst2 = [ choice(range(10)) for i in range(n) ] # generate another random list of length n\n",
    "            X = makeInt(lst1)\n",
    "            Y = makeInt(lst2)\n",
    "            start = time.time()\n",
    "            myFn( X, Y )\n",
    "            end = time.time()\n",
    "            runtime += (end - start) * 1000 # measure in milliseconds\n",
    "        runtime = runtime/numTrials\n",
    "        nValues.append(n)\n",
    "        tValues.append(runtime)\n",
    "    return nValues, tValues\n",
    "\n",
    "# next, you can do:\n",
    "# plt.plot(nValues, tValues)\n",
    "# or something like that\n"
   ]
  },
  {
   "cell_type": "markdown",
   "metadata": {},
   "source": [
    "## Here's our benchmark: grade-school multiplication.\n",
    "\n",
    "This is probably (equivalent to) the algorithm you learned in grade school."
   ]
  },
  {
   "cell_type": "code",
   "execution_count": 111,
   "metadata": {},
   "outputs": [],
   "source": [
    "# look at each pair of digits, and add them up with appropriate shifts.\n",
    "def gradeSchoolMult( X, Y ): # X and Y are integers\n",
    "    x = getDigits(X)\n",
    "    y = getDigits(Y)\n",
    "    summands = []\n",
    "    for xDigit in range(len(x)):\n",
    "        currentXDigit = x[len(x) - xDigit -1]\n",
    "        z = [0 for i in range(xDigit)] # z is the digits of xDigit times y; start it out with some zeros\n",
    "        carry = 0\n",
    "        for yDigit in range(len(y)):\n",
    "            newProd = getDigits( currentXDigit * y[len(y) - yDigit - 1] + carry )\n",
    "            z.insert( 0, newProd[-1] ) # put the new digit at the front of our new summand\n",
    "            if len(newProd) > 1:\n",
    "                carry = newProd[0]\n",
    "            else:\n",
    "                carry = 0\n",
    "        z.insert(0, carry)\n",
    "        summands.append(makeInt(z))\n",
    "    return sum(summands) # finally add them all together # finally add them all together"
   ]
  },
  {
   "cell_type": "markdown",
   "metadata": {},
   "source": [
    "Now let's see how long this takes!  We'll try it a bunch of times and graph it.  \n",
    "\n",
    "#### *NOTE*: Don't worry too much (at all) about the plotting code below, you'll never have to generate that for yourself in this course.\n",
    "\n",
    "#### *NOTE*: This should work fine if you installed Jupyter using anaconda but if you did it in a different way you may need to install matplotlib."
   ]
  },
  {
   "cell_type": "code",
   "execution_count": 113,
   "metadata": {},
   "outputs": [],
   "source": [
    "# Generate some evaluation points\n",
    "nVals = [2**k for k in range(9)] # let's try it at a bunch of powers of 2, we'll see why later...\n",
    "nVals += [k*10 for k in range(10)]\n",
    "nVals += [k*50 for k in range(2,11)]# plus some spaced-out points...\n",
    "nVals.sort() # put them in order\n",
    "\n",
    "# multABunch (included from multABunch.py) just runs this algorithm a bunch of times.\n",
    "nValsGS, tValsGS = multABunch(gradeSchoolMult, nVals, numTrials=5)"
   ]
  },
  {
   "cell_type": "code",
   "execution_count": 114,
   "metadata": {
    "scrolled": true
   },
   "outputs": [
    {
     "name": "stdout",
     "output_type": "stream",
     "text": [
      "nice polynomial is 35.79929894070324 + -1.3512622716602398 *x +  0.009619262888588376 x^2\n"
     ]
    },
    {
     "data": {
      "text/plain": [
       "Text(0.5, 1.0, 'Multiplying n-digit integers')"
      ]
     },
     "execution_count": 114,
     "metadata": {},
     "output_type": "execute_result"
    }
   ],
   "source": [
    "# Now make a pretty picture!  \n",
    "\n",
    "plt.plot(nValsGS, tValsGS, color=\"red\", label=\"Grade School Multiplication on laptop\")\n",
    "# after we look at the data, change the False flag to True to fit a quadratic\n",
    "if True:\n",
    "    coeffs = np.polyfit( nValsGS, tValsGS, 2 )\n",
    "    plt.plot(nValsGS, [ coeffs[2] + coeffs[1]*n + coeffs[0]*n**2 for n in nValsGS], color=\"purple\", label=\"nice quadratic\")\n",
    "    print(\"nice polynomial is\", coeffs[2] ,\"+\", coeffs[1],\"*x + \", coeffs[0] , \"x^2\")\n",
    "plt.xlabel(\"n\")\n",
    "plt.ylabel(\"Time(ms)\")\n",
    "plt.legend()\n",
    "plt.title(\"Multiplying n-digit integers\")\n"
   ]
  },
  {
   "cell_type": "code",
   "execution_count": 115,
   "metadata": {
    "scrolled": true
   },
   "outputs": [
    {
     "data": {
      "text/plain": [
       "Text(0.5, 1.0, 'Multiplying n-digit integers')"
      ]
     },
     "execution_count": 115,
     "metadata": {},
     "output_type": "execute_result"
    }
   ],
   "source": [
    "# Let's try interpolating this out a bit (see slides for context)\n",
    "\n",
    "nValsTmp = range(10000)\n",
    "plt.plot(nValsTmp, [ coeffs[2] + coeffs[1]*n + coeffs[0]*n**2 for n in nValsTmp], color=\"red\", label=\"GSMult on Laptop (projected via nice quadratic)\")\n",
    "#plt.plot(nValsGS, tValsGS, color=\"red\", label=\"Grade School Multiplication on laptop\")\n",
    "plt.plot(nValsTmp, [ n**(1.6)/10 + 100 for n in nValsTmp], \"--\" , color=\"green\", label=\"Magic Multiplication Algorithm by hand\")\n",
    "plt.plot(nValsTmp, [ n**(2)/10 + 100 for n in nValsTmp], color=\"orange\", label=\"Grade School Multiplication by hand\")\n",
    "plt.xlabel(\"n\")\n",
    "plt.ylabel(\"Time(ms)\")\n",
    "plt.ylim(0,500000)\n",
    "plt.xlim()\n",
    "plt.legend()\n",
    "plt.title(\"Multiplying n-digit integers\")"
   ]
  },
  {
   "cell_type": "markdown",
   "metadata": {},
   "source": [
    "### Now let's try a divide-and-conquer solution!\n",
    "\n",
    "This algorithm breaks one size-n multiplication into four size n/2 multiplications, and recurses."
   ]
  },
  {
   "cell_type": "code",
   "execution_count": 117,
   "metadata": {},
   "outputs": [
    {
     "data": {
      "text/plain": [
       "7006652"
      ]
     },
     "execution_count": 117,
     "metadata": {},
     "output_type": "execute_result"
    }
   ],
   "source": [
    "def divideAndConquerMult1( X, Y ):\n",
    "    return divideAndConquerMult1_helper( getDigits(X), getDigits(Y) )\n",
    "\n",
    "def divideAndConquerMult1_helper( x, y ): # Assume n(= size) is a power of 2\n",
    "    size = len(x)\n",
    "    if(size ==1):\n",
    "        return makeInt(x) * makeInt(y)\n",
    "    else:\n",
    "        halfSize = ((int)(size/2))\n",
    "        a = makeInt(x[:halfSize])\n",
    "        b = makeInt(x[halfSize:])\n",
    "        c = makeInt(y[:halfSize])\n",
    "        d = makeInt(y[halfSize:])\n",
    "        ac = divideAndConquerMult1(a,c)\n",
    "        ad = divideAndConquerMult1(a,d)\n",
    "        bc = divideAndConquerMult1(b,c)\n",
    "        bd = divideAndConquerMult1(b,d)\n",
    "        result = ((10 ** size) * ac) + ((ad + bc ) * (10** halfSize)) + bd\n",
    "        return result\n",
    "divideAndConquerMult1(1234,5678)"
   ]
  },
  {
   "cell_type": "code",
   "execution_count": null,
   "metadata": {},
   "outputs": [],
   "source": []
  },
  {
   "cell_type": "markdown",
   "metadata": {},
   "source": [
    "How fast is this?  Let's try it!"
   ]
  },
  {
   "cell_type": "code",
   "execution_count": 119,
   "metadata": {
    "scrolled": true
   },
   "outputs": [],
   "source": [
    "nValsRec, tValsRec = multABunch(divideAndConquerMult1, nVals, numTrials=5)"
   ]
  },
  {
   "cell_type": "code",
   "execution_count": 120,
   "metadata": {},
   "outputs": [
    {
     "data": {
      "text/plain": [
       "Text(0.5, 1.0, 'Multiplying n-digit integers')"
      ]
     },
     "execution_count": 120,
     "metadata": {},
     "output_type": "execute_result"
    }
   ],
   "source": [
    "plt.plot(nValsGS, tValsGS, color=\"red\", label=\"Grade School Multiplication\")\n",
    "plt.plot(nValsRec, tValsRec, color=\"blue\", label=\"Divide and Conquer I\")\n",
    "plt.xlabel(\"n\")\n",
    "plt.ylabel(\"Time(ms)\")\n",
    "plt.legend()\n",
    "plt.title(\"Multiplying n-digit integers\")"
   ]
  },
  {
   "cell_type": "markdown",
   "metadata": {},
   "source": [
    "Hmm...pretty hard to tell from this plot which one is asymptotically better.  (And there's definitely something weird going on at powers of two in the divide-and-conquer implementation above).  We'll need to turn to some mathematical analysis to understand how this algorithm behaves as n gets large."
   ]
  },
  {
   "cell_type": "markdown",
   "metadata": {
    "collapsed": true,
    "jupyter": {
     "outputs_hidden": true
    }
   },
   "source": [
    "## Karatsuba multiplication\n",
    "\n",
    "The previous algorithms ended up both using about n^2 operations.  Karatsuba multiplication will do better!  It is also a divide-and-conquer approach, but turns one multiplication of size n into three multiplications of size n/2."
   ]
  },
  {
   "cell_type": "code",
   "execution_count": 123,
   "metadata": {},
   "outputs": [],
   "source": [
    "def karatsuba( X, Y ):\n",
    "    return karatsuba_helper( getDigits(X), getDigits(Y))\n",
    "\n",
    "def karatsuba_helper( x, y ):  \n",
    "    size = len(x)\n",
    "    if(size ==1):\n",
    "        return makeInt(x) * makeInt(y)\n",
    "    else:\n",
    "        halfSize = ((int)(size/2))\n",
    "        a = makeInt(x[:halfSize])\n",
    "        b = makeInt(x[halfSize:])\n",
    "        c = makeInt(y[:halfSize])\n",
    "        d = makeInt(y[halfSize:])\n",
    "        p = a + b\n",
    "        q = c + d\n",
    "        ac = karatsuba(a, c)\n",
    "        bd = karatsuba(b, d)\n",
    "        pq = karatsuba(p, q)\n",
    "        adbc = pq - ac - bd\n",
    "        result = (10 ** size) * ac + (10** halfSize) * adbc + bd\n",
    "        return result\n",
    "# Karatsuba does not work correctly when p and q have different length and so final answer is wrong.Because of time I couldn't debug it .Despite I had found better way in geekforgeeks.com I didnt use it becayse I was not sure is it right to use it or no.\n",
    "# divideAndConquerMult1(1234,5678)"
   ]
  },
  {
   "cell_type": "code",
   "execution_count": 124,
   "metadata": {},
   "outputs": [],
   "source": [
    "nValsKarat, tValsKarat = multABunch(karatsuba, nVals, numTrials=5)"
   ]
  },
  {
   "cell_type": "code",
   "execution_count": 125,
   "metadata": {},
   "outputs": [
    {
     "data": {
      "text/plain": [
       "Text(0.5, 1.0, 'Multiplying n-digit integers')"
      ]
     },
     "execution_count": 125,
     "metadata": {},
     "output_type": "execute_result"
    }
   ],
   "source": [
    "plt.plot(nValsGS, tValsGS, color=\"red\", label=\"Grade School Multiplication\")\n",
    "#plt.plot(nValsRec, tValsRec, color=\"grey\", label=\"Divide and Conquer I\")\n",
    "plt.plot(nValsKarat, tValsKarat, color=\"orange\", label=\"Divide and Conquer II (Karatsuba)\")\n",
    "plt.xlabel(\"n\")\n",
    "plt.ylabel(\"Time(ms)\")\n",
    "plt.legend()\n",
    "plt.title(\"Multiplying n-digit integers\")"
   ]
  },
  {
   "cell_type": "markdown",
   "metadata": {},
   "source": [
    "Cool, it does seem to work better than grade-school multiplication!"
   ]
  },
  {
   "cell_type": "code",
   "execution_count": null,
   "metadata": {},
   "outputs": [],
   "source": []
  },
  {
   "cell_type": "code",
   "execution_count": null,
   "metadata": {},
   "outputs": [],
   "source": []
  },
  {
   "cell_type": "code",
   "execution_count": null,
   "metadata": {},
   "outputs": [],
   "source": []
  }
 ],
 "metadata": {
  "kernelspec": {
   "display_name": "Python [conda env:base] *",
   "language": "python",
   "name": "conda-base-py"
  },
  "language_info": {
   "codemirror_mode": {
    "name": "ipython",
    "version": 3
   },
   "file_extension": ".py",
   "mimetype": "text/x-python",
   "name": "python",
   "nbconvert_exporter": "python",
   "pygments_lexer": "ipython3",
   "version": "3.12.7"
  }
 },
 "nbformat": 4,
 "nbformat_minor": 4
}
